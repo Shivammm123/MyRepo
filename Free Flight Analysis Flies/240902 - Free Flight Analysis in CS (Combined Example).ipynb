{
 "cells": [
  {
   "cell_type": "code",
   "execution_count": null,
   "metadata": {},
   "outputs": [],
   "source": [
    "from flyanalysis import braidz\n",
    "from flyanalysis import filtering\n",
    "from flyanalysis.processing import extract_stimulus_centered_data\n",
    "import numpy as np\n",
    "from matplotlib import pyplot as plt\n",
    "from flyanalysis.plotting import plot_mean_and_std\n",
    "from flyanalysis.plotting import plot_trajectory\n",
    "from datetime import datetime\n",
    "from combine_data import combine_data"
   ]
  },
  {
   "cell_type": "code",
   "execution_count": null,
   "metadata": {},
   "outputs": [],
   "source": [
    "df, csvs = braidz.read_braidz(r\"C:\\\\Users\\\\pandey\\\\Desktop\\\\Braidz Files\\\\20240902_135048.braidz\")\n",
    "\n",
    "timestamp_column = csvs[\"stim\"][\"timestamp\"]\n",
    "print(timestamp_column)\n",
    "timestamp_column.to_csv('timestamp240902_output.csv', index=False)\n",
    "\n",
    "data = extract_stimulus_centered_data(df, csvs[\"stim\"])\n",
    "\n",
    "list(data)\n",
    "angular_velocity_data_1 = data['angular_velocity']\n",
    "print(angular_velocity_data)"
   ]
  },
  {
   "cell_type": "code",
   "execution_count": null,
   "metadata": {},
   "outputs": [],
   "source": [
    "df, csvs = braidz.read_braidz(r\"C:\\\\Users\\\\pandey\\\\Desktop\\\\Braidz Files\\\\20240902_135048.braidz\")\n",
    "\n",
    "timestamp_column = csvs[\"stim\"][\"timestamp\"]\n",
    "print(timestamp_column)\n",
    "timestamp_column.to_csv('timestamp240902_output.csv', index=False)\n",
    "\n",
    "data = extract_stimulus_centered_data(df, csvs[\"stim\"])\n",
    "\n",
    "list(data)\n",
    "angular_velocity_data_2 = data['angular_velocity']\n",
    "print(angular_velocity_data)"
   ]
  },
  {
   "cell_type": "code",
   "execution_count": null,
   "metadata": {},
   "outputs": [],
   "source": [
    "combine_data([\"exp1\", \"exp2\", \"exp3\", ...], [angular_velocity_data_1, angular_velocity_data_2])"
   ]
  },
  {
   "cell_type": "code",
   "execution_count": null,
   "metadata": {},
   "outputs": [],
   "source": [
    "median_obj_id = filtering.filter_by_median_position(df, xlim=[-0.2, 0.2], ylim=[-0.2, 0.2], zlim=[0.1, 0.3])\n",
    "duration_obj_id = filtering.filter_by_duration(df, threshold=5)\n",
    "\n",
    "shared_elements = set(median_obj_id) & set(duration_obj_id)\n",
    "shared_elements"
   ]
  },
  {
   "cell_type": "code",
   "execution_count": null,
   "metadata": {},
   "outputs": [],
   "source": [
    "fig = plt.figure()\n",
    "for d in data[\"angular_velocity\"]:\n",
    "    plt.plot(d)\n",
    "plt.show()"
   ]
  },
  {
   "cell_type": "code",
   "execution_count": null,
   "metadata": {},
   "outputs": [],
   "source": [
    "fig, ax = plt.subplots()\n",
    "plot_mean_and_std(np.array(data[\"angular_velocity\"]), ax=ax)\n",
    "ax.set_xlabel(\"frame\")\n",
    "ax.set_ylabel(\"angvel (rad/sec)\")\n",
    "plt.show()"
   ]
  },
  {
   "cell_type": "code",
   "execution_count": null,
   "metadata": {},
   "outputs": [],
   "source": [
    "fig, ax = plt.subplots()\n",
    "plot_mean_and_std(np.abs(np.array(data[\"angular_velocity\"])), ax=ax)\n",
    "ax.set_xlabel(\"frame\")\n",
    "ax.set_ylabel(\"angvel (rad/sec)\")\n",
    "plt.show()"
   ]
  },
  {
   "cell_type": "code",
   "execution_count": null,
   "metadata": {},
   "outputs": [],
   "source": [
    "i = 5\n",
    "traj = data[\"position\"][i]\n",
    "\n",
    "fig = plt.figure()\n",
    "plt.plot(traj[:,0], traj[:,1])\n",
    "plt.scatter(traj[50,0], traj[50,1], color=\"red\")\n",
    "plt.scatter(traj[0,0], traj[0,1], color=\"black\")\n",
    "plt.show()"
   ]
  },
  {
   "cell_type": "code",
   "execution_count": null,
   "metadata": {},
   "outputs": [],
   "source": [
    "plot_trajectory(df)"
   ]
  }
 ],
 "metadata": {
  "kernelspec": {
   "display_name": "data_learnings",
   "language": "python",
   "name": "python3"
  },
  "language_info": {
   "codemirror_mode": {
    "name": "ipython",
    "version": 3
   },
   "file_extension": ".py",
   "mimetype": "text/x-python",
   "name": "python",
   "nbconvert_exporter": "python",
   "pygments_lexer": "ipython3",
   "version": "3.12.4"
  }
 },
 "nbformat": 4,
 "nbformat_minor": 2
}
